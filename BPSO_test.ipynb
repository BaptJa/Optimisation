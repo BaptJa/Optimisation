{
  "cells": [
    {
      "cell_type": "code",
      "source": [
        "!pip install pyswarms"
      ],
      "metadata": {
        "colab": {
          "base_uri": "https://localhost:8080/"
        },
        "id": "08NC-sAuImfF",
        "outputId": "4185ee9a-1b45-40ed-e972-2bb0da06d47e"
      },
      "execution_count": null,
      "outputs": [
        {
          "output_type": "stream",
          "name": "stdout",
          "text": [
            "Collecting pyswarms\n",
            "  Downloading pyswarms-1.3.0-py2.py3-none-any.whl (104 kB)\n",
            "\u001b[?25l\r\u001b[K     |███▏                            | 10 kB 22.0 MB/s eta 0:00:01\r\u001b[K     |██████▎                         | 20 kB 14.2 MB/s eta 0:00:01\r\u001b[K     |█████████▍                      | 30 kB 10.1 MB/s eta 0:00:01\r\u001b[K     |████████████▋                   | 40 kB 7.9 MB/s eta 0:00:01\r\u001b[K     |███████████████▊                | 51 kB 5.2 MB/s eta 0:00:01\r\u001b[K     |██████████████████▉             | 61 kB 5.3 MB/s eta 0:00:01\r\u001b[K     |██████████████████████          | 71 kB 5.6 MB/s eta 0:00:01\r\u001b[K     |█████████████████████████▏      | 81 kB 6.2 MB/s eta 0:00:01\r\u001b[K     |████████████████████████████▎   | 92 kB 4.7 MB/s eta 0:00:01\r\u001b[K     |███████████████████████████████▌| 102 kB 5.2 MB/s eta 0:00:01\r\u001b[K     |████████████████████████████████| 104 kB 5.2 MB/s \n",
            "\u001b[?25hRequirement already satisfied: numpy in /usr/local/lib/python3.7/dist-packages (from pyswarms) (1.19.5)\n",
            "Requirement already satisfied: matplotlib>=1.3.1 in /usr/local/lib/python3.7/dist-packages (from pyswarms) (3.2.2)\n",
            "Requirement already satisfied: attrs in /usr/local/lib/python3.7/dist-packages (from pyswarms) (21.4.0)\n",
            "Requirement already satisfied: scipy in /usr/local/lib/python3.7/dist-packages (from pyswarms) (1.4.1)\n",
            "Requirement already satisfied: pyyaml in /usr/local/lib/python3.7/dist-packages (from pyswarms) (3.13)\n",
            "Requirement already satisfied: future in /usr/local/lib/python3.7/dist-packages (from pyswarms) (0.16.0)\n",
            "Requirement already satisfied: tqdm in /usr/local/lib/python3.7/dist-packages (from pyswarms) (4.62.3)\n",
            "Requirement already satisfied: pyparsing!=2.0.4,!=2.1.2,!=2.1.6,>=2.0.1 in /usr/local/lib/python3.7/dist-packages (from matplotlib>=1.3.1->pyswarms) (3.0.7)\n",
            "Requirement already satisfied: cycler>=0.10 in /usr/local/lib/python3.7/dist-packages (from matplotlib>=1.3.1->pyswarms) (0.11.0)\n",
            "Requirement already satisfied: python-dateutil>=2.1 in /usr/local/lib/python3.7/dist-packages (from matplotlib>=1.3.1->pyswarms) (2.8.2)\n",
            "Requirement already satisfied: kiwisolver>=1.0.1 in /usr/local/lib/python3.7/dist-packages (from matplotlib>=1.3.1->pyswarms) (1.3.2)\n",
            "Requirement already satisfied: six>=1.5 in /usr/local/lib/python3.7/dist-packages (from python-dateutil>=2.1->matplotlib>=1.3.1->pyswarms) (1.15.0)\n",
            "Installing collected packages: pyswarms\n",
            "Successfully installed pyswarms-1.3.0\n"
          ]
        }
      ]
    },
    {
      "cell_type": "code",
      "source": [
        ""
      ],
      "metadata": {
        "id": "SS9lknwauI6K"
      },
      "execution_count": null,
      "outputs": []
    },
    {
      "cell_type": "code",
      "execution_count": null,
      "metadata": {
        "colab": {
          "base_uri": "https://localhost:8080/"
        },
        "id": "bf2qc3u1IhD_",
        "outputId": "fc262690-7109-4cd3-e2a2-4c2ccc5f93d8"
      },
      "outputs": [
        {
          "output_type": "stream",
          "name": "stderr",
          "text": [
            "2022-02-08 09:10:58,033 - pyswarms.discrete.binary - INFO - Optimize for 100 iters with {'c1': 2.5, 'c2': 2.5, 'w': 0.9, 'k': 30, 'p': 50}\n"
          ]
        },
        {
          "output_type": "stream",
          "name": "stdout",
          "text": [
            "The autoreload extension is already loaded. To reload it, use:\n",
            "  %reload_ext autoreload\n"
          ]
        },
        {
          "output_type": "stream",
          "name": "stderr",
          "text": [
            "pyswarms.discrete.binary: 100%|██████████|100/100, best_cost=0\n",
            "2022-02-08 09:10:58,649 - pyswarms.discrete.binary - INFO - Optimization finished | best cost: 0.0, best pos: [0 0 0 0 0 0 0 0 0 0 0 0 0 0 0 0 0 0]\n",
            "2022-02-08 09:10:58,653 - pyswarms.discrete.binary - INFO - Optimize for 100 iters with {'c1': 2.5, 'c2': 2.5, 'w': 0.9, 'k': 30, 'p': 50}\n"
          ]
        },
        {
          "output_type": "stream",
          "name": "stdout",
          "text": [
            "[0 0 0 1 0 0 0 1 0 0 0 0 1 0 0 0 0 1]\n"
          ]
        },
        {
          "output_type": "stream",
          "name": "stderr",
          "text": [
            "pyswarms.discrete.binary: 100%|██████████|100/100, best_cost=0\n",
            "2022-02-08 09:10:59,246 - pyswarms.discrete.binary - INFO - Optimization finished | best cost: 0.0, best pos: [0 0 0 0 0 0 0 0 0 0 0 0 0 0 0 0 0 0]\n",
            "2022-02-08 09:10:59,248 - pyswarms.discrete.binary - INFO - Optimize for 100 iters with {'c1': 2.5, 'c2': 2.5, 'w': 0.9, 'k': 30, 'p': 50}\n"
          ]
        },
        {
          "output_type": "stream",
          "name": "stdout",
          "text": [
            "[0 0 0 1 0 0 0 1 0 0 0 0 1 0 0 0 0 1]\n"
          ]
        },
        {
          "output_type": "stream",
          "name": "stderr",
          "text": [
            "pyswarms.discrete.binary: 100%|██████████|100/100, best_cost=0\n",
            "2022-02-08 09:10:59,806 - pyswarms.discrete.binary - INFO - Optimization finished | best cost: 0.0, best pos: [0 0 0 0 0 0 0 0 0 0 0 0 0 0 0 0 0 0]\n",
            "2022-02-08 09:10:59,810 - pyswarms.discrete.binary - INFO - Optimize for 100 iters with {'c1': 2.5, 'c2': 2.5, 'w': 0.9, 'k': 30, 'p': 50}\n"
          ]
        },
        {
          "output_type": "stream",
          "name": "stdout",
          "text": [
            "[0 0 0 1 0 0 0 1 0 0 0 0 1 0 0 0 0 1]\n"
          ]
        },
        {
          "output_type": "stream",
          "name": "stderr",
          "text": [
            "pyswarms.discrete.binary: 100%|██████████|100/100, best_cost=-.0465\n",
            "2022-02-08 09:11:00,398 - pyswarms.discrete.binary - INFO - Optimization finished | best cost: -0.046500000001287844, best pos: [0 0 0 0 0 0 0 0 0 0 0 0 0 0 0 0 0 0]\n",
            "2022-02-08 09:11:00,400 - pyswarms.discrete.binary - INFO - Optimize for 100 iters with {'c1': 2.5, 'c2': 2.5, 'w': 0.9, 'k': 30, 'p': 50}\n"
          ]
        },
        {
          "output_type": "stream",
          "name": "stdout",
          "text": [
            "[0 0 0 1 0 0 0 1 0 0 0 0 1 0 0 0 0 1]\n"
          ]
        },
        {
          "output_type": "stream",
          "name": "stderr",
          "text": [
            "pyswarms.discrete.binary: 100%|██████████|100/100, best_cost=-.814\n",
            "2022-02-08 09:11:01,000 - pyswarms.discrete.binary - INFO - Optimization finished | best cost: -0.814499999999498, best pos: [0 0 0 0 0 0 0 1 0 0 0 0 0 0 0 0 0 0]\n",
            "2022-02-08 09:11:01,004 - pyswarms.discrete.binary - INFO - Optimize for 100 iters with {'c1': 2.5, 'c2': 2.5, 'w': 0.9, 'k': 30, 'p': 50}\n"
          ]
        },
        {
          "output_type": "stream",
          "name": "stdout",
          "text": [
            "[0 0 0 1 0 0 0 0 0 0 0 0 1 0 0 0 0 1]\n"
          ]
        },
        {
          "output_type": "stream",
          "name": "stderr",
          "text": [
            "pyswarms.discrete.binary: 100%|██████████|100/100, best_cost=-2.5\n",
            "2022-02-08 09:11:01,577 - pyswarms.discrete.binary - INFO - Optimization finished | best cost: -2.497499999998581, best pos: [0 0 0 0 0 0 0 1 0 0 0 0 0 0 0 0 0 0]\n",
            "2022-02-08 09:11:01,580 - pyswarms.discrete.binary - INFO - Optimize for 100 iters with {'c1': 2.5, 'c2': 2.5, 'w': 0.9, 'k': 30, 'p': 50}\n"
          ]
        },
        {
          "output_type": "stream",
          "name": "stdout",
          "text": [
            "[0 0 0 1 0 0 0 0 0 0 0 0 1 0 0 1 0 1]\n"
          ]
        },
        {
          "output_type": "stream",
          "name": "stderr",
          "text": [
            "pyswarms.discrete.binary: 100%|██████████|100/100, best_cost=-7.31\n",
            "2022-02-08 09:11:02,197 - pyswarms.discrete.binary - INFO - Optimization finished | best cost: -7.310999999999694, best pos: [0 0 0 1 0 0 0 0 0 0 0 0 0 0 0 0 0 0]\n",
            "2022-02-08 09:11:02,200 - pyswarms.discrete.binary - INFO - Optimize for 100 iters with {'c1': 2.5, 'c2': 2.5, 'w': 0.9, 'k': 30, 'p': 50}\n"
          ]
        },
        {
          "output_type": "stream",
          "name": "stdout",
          "text": [
            "[0 0 0 0 0 0 0 1 0 0 0 0 1 0 0 1 0 1]\n"
          ]
        },
        {
          "output_type": "stream",
          "name": "stderr",
          "text": [
            "pyswarms.discrete.binary: 100%|██████████|100/100, best_cost=-9.08\n",
            "2022-02-08 09:11:02,784 - pyswarms.discrete.binary - INFO - Optimization finished | best cost: -9.075000000001637, best pos: [0 0 0 0 0 0 0 0 0 0 0 0 1 0 0 0 0 0]\n",
            "2022-02-08 09:11:02,791 - pyswarms.discrete.binary - INFO - Optimize for 100 iters with {'c1': 2.5, 'c2': 2.5, 'w': 0.9, 'k': 30, 'p': 50}\n"
          ]
        },
        {
          "output_type": "stream",
          "name": "stdout",
          "text": [
            "[0 0 0 1 0 0 1 1 0 0 0 1 0 1 0 1 0 1]\n"
          ]
        },
        {
          "output_type": "stream",
          "name": "stderr",
          "text": [
            "pyswarms.discrete.binary: 100%|██████████|100/100, best_cost=-10.1\n",
            "2022-02-08 09:11:03,373 - pyswarms.discrete.binary - INFO - Optimization finished | best cost: -10.063499999998385, best pos: [0 0 0 0 0 0 1 0 0 0 0 0 0 0 0 0 0 0]\n",
            "2022-02-08 09:11:03,374 - pyswarms.discrete.binary - INFO - Optimize for 100 iters with {'c1': 2.5, 'c2': 2.5, 'w': 0.9, 'k': 30, 'p': 50}\n"
          ]
        },
        {
          "output_type": "stream",
          "name": "stdout",
          "text": [
            "[0 0 0 1 0 0 0 1 0 0 0 1 1 0 0 1 0 1]\n"
          ]
        },
        {
          "output_type": "stream",
          "name": "stderr",
          "text": [
            "pyswarms.discrete.binary: 100%|██████████|100/100, best_cost=-11.4\n",
            "2022-02-08 09:11:03,982 - pyswarms.discrete.binary - INFO - Optimization finished | best cost: -11.382000000002336, best pos: [0 0 0 0 0 0 0 0 0 0 0 0 0 0 0 0 0 0]\n",
            "2022-02-08 09:11:03,985 - pyswarms.discrete.binary - INFO - Optimize for 100 iters with {'c1': 2.5, 'c2': 2.5, 'w': 0.9, 'k': 30, 'p': 50}\n"
          ]
        },
        {
          "output_type": "stream",
          "name": "stdout",
          "text": [
            "[1 1 0 1 0 0 0 1 0 0 0 1 1 0 0 1 0 1]\n"
          ]
        },
        {
          "output_type": "stream",
          "name": "stderr",
          "text": [
            "pyswarms.discrete.binary: 100%|██████████|100/100, best_cost=-11.1\n",
            "2022-02-08 09:11:04,599 - pyswarms.discrete.binary - INFO - Optimization finished | best cost: -11.076000000000022, best pos: [0 0 0 0 0 0 0 0 0 0 0 0 0 0 0 0 0 0]\n",
            "2022-02-08 09:11:04,602 - pyswarms.discrete.binary - INFO - Optimize for 100 iters with {'c1': 2.5, 'c2': 2.5, 'w': 0.9, 'k': 30, 'p': 50}\n"
          ]
        },
        {
          "output_type": "stream",
          "name": "stdout",
          "text": [
            "[1 1 0 1 0 0 0 1 0 0 0 1 1 0 0 1 0 1]\n"
          ]
        },
        {
          "output_type": "stream",
          "name": "stderr",
          "text": [
            "pyswarms.discrete.binary: 100%|██████████|100/100, best_cost=-10.6\n",
            "2022-02-08 09:11:05,591 - pyswarms.discrete.binary - INFO - Optimization finished | best cost: -10.612499999998363, best pos: [0 0 0 0 0 0 0 0 0 0 0 0 0 0 0 0 0 1]\n",
            "2022-02-08 09:11:05,594 - pyswarms.discrete.binary - INFO - Optimize for 100 iters with {'c1': 2.5, 'c2': 2.5, 'w': 0.9, 'k': 30, 'p': 50}\n"
          ]
        },
        {
          "output_type": "stream",
          "name": "stdout",
          "text": [
            "[1 1 0 1 0 0 0 1 0 0 0 1 1 0 0 1 0 0]\n"
          ]
        },
        {
          "output_type": "stream",
          "name": "stderr",
          "text": [
            "pyswarms.discrete.binary: 100%|██████████|100/100, best_cost=-4.64\n",
            "2022-02-08 09:11:06,600 - pyswarms.discrete.binary - INFO - Optimization finished | best cost: -4.642500000001746, best pos: [0 0 0 0 0 0 0 0 0 0 0 0 0 0 0 0 0 1]\n",
            "2022-02-08 09:11:06,602 - pyswarms.discrete.binary - INFO - Optimize for 100 iters with {'c1': 2.5, 'c2': 2.5, 'w': 0.9, 'k': 30, 'p': 50}\n"
          ]
        },
        {
          "output_type": "stream",
          "name": "stdout",
          "text": [
            "[1 0 0 1 0 0 0 1 0 0 0 1 1 0 1 1 0 0]\n"
          ]
        },
        {
          "output_type": "stream",
          "name": "stderr",
          "text": [
            "pyswarms.discrete.binary: 100%|██████████|100/100, best_cost=-3.95\n",
            "2022-02-08 09:11:07,173 - pyswarms.discrete.binary - INFO - Optimization finished | best cost: -3.9479999999994106, best pos: [0 0 0 0 0 0 0 0 0 0 0 0 0 0 0 0 0 1]\n",
            "2022-02-08 09:11:07,175 - pyswarms.discrete.binary - INFO - Optimize for 100 iters with {'c1': 2.5, 'c2': 2.5, 'w': 0.9, 'k': 30, 'p': 50}\n"
          ]
        },
        {
          "output_type": "stream",
          "name": "stdout",
          "text": [
            "[1 0 1 1 0 0 0 1 0 0 0 1 1 0 1 1 0 0]\n"
          ]
        },
        {
          "output_type": "stream",
          "name": "stderr",
          "text": [
            "pyswarms.discrete.binary: 100%|██████████|100/100, best_cost=-3.35\n",
            "2022-02-08 09:11:07,761 - pyswarms.discrete.binary - INFO - Optimization finished | best cost: -3.35399999999845, best pos: [0 0 0 0 0 0 0 0 0 0 0 0 0 0 0 0 0 0]\n",
            "2022-02-08 09:11:07,766 - pyswarms.discrete.binary - INFO - Optimize for 100 iters with {'c1': 2.5, 'c2': 2.5, 'w': 0.9, 'k': 30, 'p': 50}\n"
          ]
        },
        {
          "output_type": "stream",
          "name": "stdout",
          "text": [
            "[1 0 1 1 0 0 0 1 0 1 1 1 1 0 1 1 0 1]\n"
          ]
        },
        {
          "output_type": "stream",
          "name": "stderr",
          "text": [
            "pyswarms.discrete.binary: 100%|██████████|100/100, best_cost=-1.53\n",
            "2022-02-08 09:11:08,382 - pyswarms.discrete.binary - INFO - Optimization finished | best cost: -1.5345000000015716, best pos: [0 0 0 0 0 0 0 0 0 0 0 0 0 0 1 1 0 0]\n",
            "2022-02-08 09:11:08,385 - pyswarms.discrete.binary - INFO - Optimize for 100 iters with {'c1': 2.5, 'c2': 2.5, 'w': 0.9, 'k': 30, 'p': 50}\n"
          ]
        },
        {
          "output_type": "stream",
          "name": "stdout",
          "text": [
            "[1 0 1 1 1 0 0 1 0 1 1 1 1 0 0 0 0 1]\n"
          ]
        },
        {
          "output_type": "stream",
          "name": "stderr",
          "text": [
            "pyswarms.discrete.binary: 100%|██████████|100/100, best_cost=-.307\n",
            "2022-02-08 09:11:08,952 - pyswarms.discrete.binary - INFO - Optimization finished | best cost: -0.30749999999989086, best pos: [0 0 0 1 0 0 0 0 0 0 0 0 1 0 1 0 0 0]\n",
            "2022-02-08 09:11:08,955 - pyswarms.discrete.binary - INFO - Optimize for 100 iters with {'c1': 2.5, 'c2': 2.5, 'w': 0.9, 'k': 30, 'p': 50}\n"
          ]
        },
        {
          "output_type": "stream",
          "name": "stdout",
          "text": [
            "[1 0 1 0 1 0 0 1 0 1 1 1 0 0 0 1 0 1]\n"
          ]
        },
        {
          "output_type": "stream",
          "name": "stderr",
          "text": [
            "pyswarms.discrete.binary: 100%|██████████|100/100, best_cost=-.063\n",
            "2022-02-08 09:11:09,515 - pyswarms.discrete.binary - INFO - Optimization finished | best cost: -0.06299999999919237, best pos: [0 0 0 1 0 0 0 0 0 0 0 0 1 0 0 0 0 0]\n",
            "2022-02-08 09:11:09,518 - pyswarms.discrete.binary - INFO - Optimize for 100 iters with {'c1': 2.5, 'c2': 2.5, 'w': 0.9, 'k': 30, 'p': 50}\n"
          ]
        },
        {
          "output_type": "stream",
          "name": "stdout",
          "text": [
            "[0 0 1 0 1 1 0 1 0 1 1 1 0 0 1 1 0 1]\n"
          ]
        },
        {
          "output_type": "stream",
          "name": "stderr",
          "text": [
            "pyswarms.discrete.binary: 100%|██████████|100/100, best_cost=0\n",
            "2022-02-08 09:11:10,138 - pyswarms.discrete.binary - INFO - Optimization finished | best cost: 0.0, best pos: [0 0 0 1 0 0 0 0 0 0 0 0 0 0 0 0 0 0]\n",
            "2022-02-08 09:11:10,140 - pyswarms.discrete.binary - INFO - Optimize for 100 iters with {'c1': 2.5, 'c2': 2.5, 'w': 0.9, 'k': 30, 'p': 50}\n"
          ]
        },
        {
          "output_type": "stream",
          "name": "stdout",
          "text": [
            "[0 0 0 0 1 1 0 1 0 1 1 1 1 0 1 1 0 1]\n"
          ]
        },
        {
          "output_type": "stream",
          "name": "stderr",
          "text": [
            "pyswarms.discrete.binary: 100%|██████████|100/100, best_cost=0\n",
            "2022-02-08 09:11:10,744 - pyswarms.discrete.binary - INFO - Optimization finished | best cost: 0.0, best pos: [0 0 0 1 0 0 0 0 0 0 0 0 0 0 0 0 1 0]\n",
            "2022-02-08 09:11:10,749 - pyswarms.discrete.binary - INFO - Optimize for 100 iters with {'c1': 2.5, 'c2': 2.5, 'w': 0.9, 'k': 30, 'p': 50}\n"
          ]
        },
        {
          "output_type": "stream",
          "name": "stdout",
          "text": [
            "[0 0 0 0 0 0 0 1 1 1 1 1 1 0 1 1 0 1]\n"
          ]
        },
        {
          "output_type": "stream",
          "name": "stderr",
          "text": [
            "pyswarms.discrete.binary: 100%|██████████|100/100, best_cost=0\n",
            "2022-02-08 09:11:11,322 - pyswarms.discrete.binary - INFO - Optimization finished | best cost: 0.0, best pos: [0 0 0 0 0 0 0 0 0 0 0 0 0 0 0 0 0 1]\n",
            "2022-02-08 09:11:11,336 - pyswarms.discrete.binary - INFO - Optimize for 100 iters with {'c1': 2.5, 'c2': 2.5, 'w': 0.9, 'k': 30, 'p': 50}\n"
          ]
        },
        {
          "output_type": "stream",
          "name": "stdout",
          "text": [
            "[0 0 0 1 0 0 0 1 1 1 1 0 1 0 1 0 1 0]\n"
          ]
        },
        {
          "output_type": "stream",
          "name": "stderr",
          "text": [
            "pyswarms.discrete.binary: 100%|██████████|100/100, best_cost=0\n",
            "2022-02-08 09:11:11,933 - pyswarms.discrete.binary - INFO - Optimization finished | best cost: 0.0, best pos: [0 0 0 0 0 0 0 0 0 0 0 0 0 0 0 0 0 1]\n",
            "2022-02-08 09:11:11,935 - pyswarms.discrete.binary - INFO - Optimize for 100 iters with {'c1': 2.5, 'c2': 2.5, 'w': 0.9, 'k': 30, 'p': 50}\n"
          ]
        },
        {
          "output_type": "stream",
          "name": "stdout",
          "text": [
            "[0 0 0 1 0 0 0 1 1 1 1 0 1 0 1 0 1 0]\n"
          ]
        },
        {
          "output_type": "stream",
          "name": "stderr",
          "text": [
            "pyswarms.discrete.binary: 100%|██████████|100/100, best_cost=0\n",
            "2022-02-08 09:11:12,588 - pyswarms.discrete.binary - INFO - Optimization finished | best cost: 0.0, best pos: [0 0 0 0 0 0 0 0 0 0 0 0 0 0 0 0 0 0]\n",
            "2022-02-08 09:11:12,590 - pyswarms.discrete.binary - INFO - Optimize for 100 iters with {'c1': 2.5, 'c2': 2.5, 'w': 0.9, 'k': 30, 'p': 50}\n"
          ]
        },
        {
          "output_type": "stream",
          "name": "stdout",
          "text": [
            "[0 0 0 1 0 0 0 1 1 1 1 0 1 0 1 0 1 1]\n"
          ]
        },
        {
          "output_type": "stream",
          "name": "stderr",
          "text": [
            "pyswarms.discrete.binary: 100%|██████████|100/100, best_cost=0\n",
            "2022-02-08 09:11:13,199 - pyswarms.discrete.binary - INFO - Optimization finished | best cost: 0.0, best pos: [0 0 0 1 0 0 0 0 0 0 0 0 0 0 0 0 0 0]\n"
          ]
        },
        {
          "output_type": "stream",
          "name": "stdout",
          "text": [
            "[0 0 0 0 0 0 0 1 1 1 1 0 1 0 1 0 1 1]\n"
          ]
        }
      ],
      "source": [
        "# Import modules\n",
        "import numpy as np\n",
        "#import seaborn as sns\n",
        "import pandas as pd\n",
        "# Import PySwarms\n",
        "import pyswarms as ps\n",
        "\n",
        "# Some more magic so that the notebook will reload external python modules;\n",
        "# see http://stackoverflow.com/questions/1907993/autoreload-of-modules-in-ipython\n",
        "%load_ext autoreload\n",
        "%autoreload 2\n",
        "%matplotlib inline\n",
        "\n",
        "# Initialize swarm, arbitrary\n",
        "options = {'c1': 2.5, 'c2': 2.5, 'w':0.9, 'k': 30, 'p':50}\n",
        "\n",
        "\n",
        "\n",
        "# Call instance of PSO\n",
        "dimensions = 18\n",
        "#optimizer.reset()\n",
        "optimizer = ps.discrete.BinaryPSO(n_particles=30, dimensions=dimensions, options=options)\n",
        "\n",
        "#powerRating = [1.7, 1.8, 2.5, 0.175, 2.5, 0.2, 1.7, 1.7, 0.3, 0.1, 0.3, 2, 0.01, 0.2, 1.15, 2.7, 0.5, 3]\n",
        "pv = [0.0, 0.0, 0.0, 0.031000000000858563, 0.5429999999996653, 1.6649999999990541, 4.873999999999796, 6.050000000001091, 6.708999999998923, 7.588000000001557, 7.3840000000000146, 7.074999999998909, 3.095000000001164, 2.631999999999607, 2.235999999998967, 1.0230000000010477, 0.20499999999992724, 0.04199999999946158, 0.0, 0.0, 0.0, 0.0, 0.0, 0.0]\n",
        "\n",
        "appliances = pd.read_csv(\"appliances.csv\")\n",
        "time_activation = np.zeros((18, 24), dtype=int)\n",
        "for i in range(18):\n",
        "  for j in range(24):\n",
        "    if j >= appliances.iloc[i, 3] and j < appliances.iloc[i, 4]:\n",
        "      time_activation[i][j] = 1\n",
        "\n",
        "\n",
        "\n",
        "def objective_function(m, ppv, cpv, t, duration, prix_import = 3.6, prix_export = 2, pen = 100):#, t, applianceMatrix, pgrid, cgrid, pinject, cinject, ppv, cpv, Pconsumer = , Cptp =, Y):\n",
        "    timeActivation = time_activation[:, t]\n",
        "    agentActivation = (duration > 0).astype(np.int)\n",
        "    demand = 0\n",
        "    penality = 0\n",
        "    for app in range(18):\n",
        "      demand += m[:, app] * agentActivation[app] * timeActivation[app] * appliances['power_rating'][app]\n",
        "      if agentActivation[app] * timeActivation[app] == 0:\n",
        "        penality += pen * m[:, app]\n",
        "      # demand = m * agentActivation * timeActivation * appliances['power_rating'] #* applianceMatrix['duration'] \n",
        "    pdemand = demand[29]\n",
        "\n",
        "    # Pgrid en fonction de demand\n",
        "    pgrid = pdemand - ppv\n",
        "\n",
        "    # calculate the value of the power function\n",
        "    # si Pgrid >0\n",
        "    if pgrid >= 0:\n",
        "      return pgrid * prix_import + ppv * cpv + penality # - pinject * m[:, 18] * cinject \n",
        "    # si pgrig <0 \n",
        "    else:\n",
        "      return pgrid * prix_export + ppv * cpv + penality# - pinject * m[:, 18] * cinject\n",
        "    #return demand#m[:,0] * pgrid * cgrid - pinject* m[:,1] * cinject + ppv * cpv\n",
        "\n",
        "arr = np.zeros((24, 18))\n",
        "duration = np.array([1, 2, 1, 24, 2, 1, 1, 2, 5, 3, 5, 1, 24, 1, 12, 2, 5, 5])\n",
        "for t in range(0, 24):\n",
        "  # Perform optimization\n",
        "  cost, pos = optimizer.optimize(objective_function, ppv = pv[t], cpv= 0.5, t=t, duration=duration, iters=100, verbose=2)\n",
        "  duration = duration - np.array(pos)\n",
        "  arr[t] = pos\n",
        "  #print(duration)\n",
        "  print(time_activation[:, t] - np.array(pos[0:18]))\n",
        "\n",
        "\n"
      ]
    },
    {
      "cell_type": "markdown",
      "source": [
        ""
      ],
      "metadata": {
        "id": "IItkIDd3kfd8"
      }
    },
    {
      "cell_type": "code",
      "source": [
        "\n",
        "df = pd.DataFrame(data=arr, columns = appliances['appliances'])\n",
        "df.plot(figsize=(18,10), kind='bar', stacked=True);"
      ],
      "metadata": {
        "id": "Im9TrL5OTpEN",
        "colab": {
          "base_uri": "https://localhost:8080/",
          "height": 594
        },
        "outputId": "9b6a32f0-f64c-49a9-f19b-9cec1ebddff8"
      },
      "execution_count": null,
      "outputs": [
        {
          "output_type": "display_data",
          "data": {
            "image/png": "[encoded data removed]",
            "text/plain": [
              "<Figure size 1296x720 with 1 Axes>"
            ]
          },
          "metadata": {
            "needs_background": "light"
          }
        }
      ]
    },
    {
      "cell_type": "code",
      "source": [
        "\n"
      ],
      "metadata": {
        "id": "vuQZWqX7iFNX",
        "colab": {
          "base_uri": "https://localhost:8080/"
        },
        "outputId": "a38e73de-9372-4e87-e3a7-b713550e2d8b"
      },
      "execution_count": null,
      "outputs": [
        {
          "output_type": "stream",
          "name": "stdout",
          "text": [
            "[1 0]\n"
          ]
        }
      ]
    },
    {
      "cell_type": "code",
      "source": [
        ""
      ],
      "metadata": {
        "colab": {
          "base_uri": "https://localhost:8080/",
          "height": 200
        },
        "id": "b5KYofebljG9",
        "outputId": "65043c16-2f6b-447a-b885-8c213d85c24b"
      },
      "execution_count": null,
      "outputs": [
        {
          "output_type": "error",
          "ename": "IndexError",
          "evalue": "ignored",
          "traceback": [
            "\u001b[0;31m---------------------------------------------------------------------------\u001b[0m",
            "\u001b[0;31mIndexError\u001b[0m                                Traceback (most recent call last)",
            "\u001b[0;32m<ipython-input-4-a68bbbe75ce4>\u001b[0m in \u001b[0;36m<module>\u001b[0;34m()\u001b[0m\n\u001b[1;32m      9\u001b[0m       \u001b[0mtime_activation\u001b[0m\u001b[0;34m[\u001b[0m\u001b[0mi\u001b[0m\u001b[0;34m]\u001b[0m\u001b[0;34m[\u001b[0m\u001b[0mj\u001b[0m\u001b[0;34m]\u001b[0m \u001b[0;34m=\u001b[0m \u001b[0;36m1\u001b[0m\u001b[0;34m\u001b[0m\u001b[0;34m\u001b[0m\u001b[0m\n\u001b[1;32m     10\u001b[0m \u001b[0;34m\u001b[0m\u001b[0m\n\u001b[0;32m---> 11\u001b[0;31m \u001b[0ma\u001b[0m \u001b[0;34m=\u001b[0m \u001b[0;34m[\u001b[0m\u001b[0;36m1\u001b[0m \u001b[0;32mif\u001b[0m \u001b[0mduration\u001b[0m\u001b[0;34m[\u001b[0m\u001b[0mt\u001b[0m\u001b[0;34m]\u001b[0m \u001b[0;34m>\u001b[0m \u001b[0;36m0\u001b[0m \u001b[0;32melse\u001b[0m \u001b[0;36m0\u001b[0m\u001b[0;34m]\u001b[0m\u001b[0;34m\u001b[0m\u001b[0;34m\u001b[0m\u001b[0m\n\u001b[0m",
            "\u001b[0;31mIndexError\u001b[0m: index 23 is out of bounds for axis 0 with size 18"
          ]
        }
      ]
    }
  ],
  "metadata": {
    "interpreter": {
      "hash": "00a4ad1f998aa7078f5186ed9a06f4edc85fa1f6495210ba978656c5b94291f1"
    },
    "kernelspec": {
      "display_name": "Python 3.9.10 64-bit (windows store)",
      "language": "python",
      "name": "python3"
    },
    "language_info": {
      "codemirror_mode": {
        "name": "ipython",
        "version": 3
      },
      "file_extension": ".py",
      "mimetype": "text/x-python",
      "name": "python",
      "nbconvert_exporter": "python",
      "pygments_lexer": "ipython3",
      "version": "3.9.10"
    },
    "orig_nbformat": 4,
    "colab": {
      "name": "BPSO-test.ipynb",
      "provenance": [],
      "collapsed_sections": []
    }
  },
  "nbformat": 4,
  "nbformat_minor": 0
}